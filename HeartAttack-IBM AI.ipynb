{
 "cells": [
  {
   "cell_type": "markdown",
   "metadata": {},
   "source": [
    "## Overview"
   ]
  },
  {
   "cell_type": "markdown",
   "metadata": {},
   "source": [
    "The Purpose of this document is to show empirically the potential interest of the\n",
    "dimensionality Reduction in Machine Learning with Ensemble Methods algorithms."
   ]
  },
  {
   "cell_type": "markdown",
   "metadata": {},
   "source": [
    "## Import Libraries"
   ]
  },
  {
   "cell_type": "code",
   "execution_count": 1,
   "metadata": {
    "_cell_guid": "b1076dfc-b9ad-4769-8c92-a6c4dae69d19",
    "_uuid": "8f2839f25d086af736a60e9eeb907d3b93b6e0e5"
   },
   "outputs": [],
   "source": [
    "import os\n",
    "import warnings\n",
    "import pandas as pd\n",
    "import matplotlib.pyplot as plt\n",
    "import seaborn as sea\n",
    "import numpy as np\n",
    "import math as mt\n",
    "import scipy\n",
    "\n",
    "from sklearn.preprocessing import StandardScaler\n",
    "warnings.filterwarnings(\"ignore\")"
   ]
  },
  {
   "cell_type": "markdown",
   "metadata": {},
   "source": [
    "## Loading Dataset\n",
    "we will use the cardiovascular dataset hosted in kaggle "
   ]
  },
  {
   "cell_type": "code",
   "execution_count": 2,
   "metadata": {
    "_cell_guid": "79c7e3d0-c299-4dcb-8224-4455121ee9b0",
    "_uuid": "d629ff2d2480ee46fbb7e2d37f6b5fab8052498a"
   },
   "outputs": [],
   "source": [
    "url = 'cardiovascular.txt'\n",
    "data = pd.read_csv(url,sep=';',decimal=',')\n",
    "\n",
    "# let's separate index from other columns\n",
    "data.index = data.iloc[:,0]\n",
    "df = data.iloc[:,1:]\n",
    "\n",
    "df = df.drop(['chd','famhist'],axis=1)\n"
   ]
  },
  {
   "cell_type": "markdown",
   "metadata": {},
   "source": [
    "Let's take a look for our data"
   ]
  },
  {
   "cell_type": "code",
   "execution_count": 3,
   "metadata": {},
   "outputs": [
    {
     "data": {
      "text/html": [
       "<div>\n",
       "<style scoped>\n",
       "    .dataframe tbody tr th:only-of-type {\n",
       "        vertical-align: middle;\n",
       "    }\n",
       "\n",
       "    .dataframe tbody tr th {\n",
       "        vertical-align: top;\n",
       "    }\n",
       "\n",
       "    .dataframe thead th {\n",
       "        text-align: right;\n",
       "    }\n",
       "</style>\n",
       "<table border=\"1\" class=\"dataframe\">\n",
       "  <thead>\n",
       "    <tr style=\"text-align: right;\">\n",
       "      <th></th>\n",
       "      <th>ind</th>\n",
       "      <th>sbp</th>\n",
       "      <th>tobacco</th>\n",
       "      <th>ldl</th>\n",
       "      <th>adiposity</th>\n",
       "      <th>famhist</th>\n",
       "      <th>typea</th>\n",
       "      <th>obesity</th>\n",
       "      <th>alcohol</th>\n",
       "      <th>age</th>\n",
       "      <th>chd</th>\n",
       "    </tr>\n",
       "    <tr>\n",
       "      <th>ind</th>\n",
       "      <th></th>\n",
       "      <th></th>\n",
       "      <th></th>\n",
       "      <th></th>\n",
       "      <th></th>\n",
       "      <th></th>\n",
       "      <th></th>\n",
       "      <th></th>\n",
       "      <th></th>\n",
       "      <th></th>\n",
       "      <th></th>\n",
       "    </tr>\n",
       "  </thead>\n",
       "  <tbody>\n",
       "    <tr>\n",
       "      <th>1</th>\n",
       "      <td>1</td>\n",
       "      <td>160</td>\n",
       "      <td>12.00</td>\n",
       "      <td>5.73</td>\n",
       "      <td>23.11</td>\n",
       "      <td>Present</td>\n",
       "      <td>49</td>\n",
       "      <td>25.30</td>\n",
       "      <td>97.20</td>\n",
       "      <td>52</td>\n",
       "      <td>1</td>\n",
       "    </tr>\n",
       "    <tr>\n",
       "      <th>2</th>\n",
       "      <td>2</td>\n",
       "      <td>144</td>\n",
       "      <td>0.01</td>\n",
       "      <td>4.41</td>\n",
       "      <td>28.61</td>\n",
       "      <td>Absent</td>\n",
       "      <td>55</td>\n",
       "      <td>28.87</td>\n",
       "      <td>2.06</td>\n",
       "      <td>63</td>\n",
       "      <td>1</td>\n",
       "    </tr>\n",
       "    <tr>\n",
       "      <th>3</th>\n",
       "      <td>3</td>\n",
       "      <td>118</td>\n",
       "      <td>0.08</td>\n",
       "      <td>3.48</td>\n",
       "      <td>32.28</td>\n",
       "      <td>Present</td>\n",
       "      <td>52</td>\n",
       "      <td>29.14</td>\n",
       "      <td>3.81</td>\n",
       "      <td>46</td>\n",
       "      <td>0</td>\n",
       "    </tr>\n",
       "    <tr>\n",
       "      <th>4</th>\n",
       "      <td>4</td>\n",
       "      <td>170</td>\n",
       "      <td>7.50</td>\n",
       "      <td>6.41</td>\n",
       "      <td>38.03</td>\n",
       "      <td>Present</td>\n",
       "      <td>51</td>\n",
       "      <td>31.99</td>\n",
       "      <td>24.26</td>\n",
       "      <td>58</td>\n",
       "      <td>1</td>\n",
       "    </tr>\n",
       "    <tr>\n",
       "      <th>5</th>\n",
       "      <td>5</td>\n",
       "      <td>134</td>\n",
       "      <td>13.60</td>\n",
       "      <td>3.50</td>\n",
       "      <td>27.78</td>\n",
       "      <td>Present</td>\n",
       "      <td>60</td>\n",
       "      <td>25.99</td>\n",
       "      <td>57.34</td>\n",
       "      <td>49</td>\n",
       "      <td>1</td>\n",
       "    </tr>\n",
       "  </tbody>\n",
       "</table>\n",
       "</div>"
      ],
      "text/plain": [
       "     ind  sbp tobacco   ldl adiposity  famhist  typea obesity alcohol  age  \\\n",
       "ind                                                                          \n",
       "1      1  160   12.00  5.73     23.11  Present     49   25.30   97.20   52   \n",
       "2      2  144    0.01  4.41     28.61   Absent     55   28.87    2.06   63   \n",
       "3      3  118    0.08  3.48     32.28  Present     52   29.14    3.81   46   \n",
       "4      4  170    7.50  6.41     38.03  Present     51   31.99   24.26   58   \n",
       "5      5  134   13.60  3.50     27.78  Present     60   25.99   57.34   49   \n",
       "\n",
       "     chd  \n",
       "ind       \n",
       "1      1  \n",
       "2      1  \n",
       "3      0  \n",
       "4      1  \n",
       "5      1  "
      ]
     },
     "execution_count": 3,
     "metadata": {},
     "output_type": "execute_result"
    }
   ],
   "source": [
    "data.head()\n"
   ]
  },
  {
   "cell_type": "code",
   "execution_count": 4,
   "metadata": {},
   "outputs": [
    {
     "data": {
      "text/plain": [
       "(462, 11)"
      ]
     },
     "execution_count": 4,
     "metadata": {},
     "output_type": "execute_result"
    }
   ],
   "source": [
    "data.shape"
   ]
  },
  {
   "cell_type": "code",
   "execution_count": 5,
   "metadata": {},
   "outputs": [
    {
     "data": {
      "text/html": [
       "<div>\n",
       "<style scoped>\n",
       "    .dataframe tbody tr th:only-of-type {\n",
       "        vertical-align: middle;\n",
       "    }\n",
       "\n",
       "    .dataframe tbody tr th {\n",
       "        vertical-align: top;\n",
       "    }\n",
       "\n",
       "    .dataframe thead th {\n",
       "        text-align: right;\n",
       "    }\n",
       "</style>\n",
       "<table border=\"1\" class=\"dataframe\">\n",
       "  <thead>\n",
       "    <tr style=\"text-align: right;\">\n",
       "      <th></th>\n",
       "      <th>sbp</th>\n",
       "      <th>tobacco</th>\n",
       "      <th>ldl</th>\n",
       "      <th>adiposity</th>\n",
       "      <th>typea</th>\n",
       "      <th>obesity</th>\n",
       "      <th>alcohol</th>\n",
       "      <th>age</th>\n",
       "    </tr>\n",
       "    <tr>\n",
       "      <th>ind</th>\n",
       "      <th></th>\n",
       "      <th></th>\n",
       "      <th></th>\n",
       "      <th></th>\n",
       "      <th></th>\n",
       "      <th></th>\n",
       "      <th></th>\n",
       "      <th></th>\n",
       "    </tr>\n",
       "  </thead>\n",
       "  <tbody>\n",
       "    <tr>\n",
       "      <th>1</th>\n",
       "      <td>160</td>\n",
       "      <td>12.00</td>\n",
       "      <td>5.73</td>\n",
       "      <td>23.11</td>\n",
       "      <td>49</td>\n",
       "      <td>25.30</td>\n",
       "      <td>97.20</td>\n",
       "      <td>52</td>\n",
       "    </tr>\n",
       "    <tr>\n",
       "      <th>2</th>\n",
       "      <td>144</td>\n",
       "      <td>0.01</td>\n",
       "      <td>4.41</td>\n",
       "      <td>28.61</td>\n",
       "      <td>55</td>\n",
       "      <td>28.87</td>\n",
       "      <td>2.06</td>\n",
       "      <td>63</td>\n",
       "    </tr>\n",
       "    <tr>\n",
       "      <th>3</th>\n",
       "      <td>118</td>\n",
       "      <td>0.08</td>\n",
       "      <td>3.48</td>\n",
       "      <td>32.28</td>\n",
       "      <td>52</td>\n",
       "      <td>29.14</td>\n",
       "      <td>3.81</td>\n",
       "      <td>46</td>\n",
       "    </tr>\n",
       "    <tr>\n",
       "      <th>4</th>\n",
       "      <td>170</td>\n",
       "      <td>7.50</td>\n",
       "      <td>6.41</td>\n",
       "      <td>38.03</td>\n",
       "      <td>51</td>\n",
       "      <td>31.99</td>\n",
       "      <td>24.26</td>\n",
       "      <td>58</td>\n",
       "    </tr>\n",
       "    <tr>\n",
       "      <th>5</th>\n",
       "      <td>134</td>\n",
       "      <td>13.60</td>\n",
       "      <td>3.50</td>\n",
       "      <td>27.78</td>\n",
       "      <td>60</td>\n",
       "      <td>25.99</td>\n",
       "      <td>57.34</td>\n",
       "      <td>49</td>\n",
       "    </tr>\n",
       "  </tbody>\n",
       "</table>\n",
       "</div>"
      ],
      "text/plain": [
       "     sbp tobacco   ldl adiposity  typea obesity alcohol  age\n",
       "ind                                                         \n",
       "1    160   12.00  5.73     23.11     49   25.30   97.20   52\n",
       "2    144    0.01  4.41     28.61     55   28.87    2.06   63\n",
       "3    118    0.08  3.48     32.28     52   29.14    3.81   46\n",
       "4    170    7.50  6.41     38.03     51   31.99   24.26   58\n",
       "5    134   13.60  3.50     27.78     60   25.99   57.34   49"
      ]
     },
     "execution_count": 5,
     "metadata": {},
     "output_type": "execute_result"
    }
   ],
   "source": [
    "df.head()"
   ]
  },
  {
   "cell_type": "markdown",
   "metadata": {},
   "source": [
    "## Data Description : \n",
    "\n",
    "1. sbp: systolic blood pressure\n",
    "2. tobacco: cumulative tobacco (kg)\n",
    "3. ldl: low densiity lipoprotein cholesterol\n",
    "4. adiposity\n",
    "5. famhist: family history of heart disease (Present, Absent)\n",
    "6. typea: type-A behavior\n",
    "7. obesity\n",
    "8. alcohol: current alcohol consumption\n",
    "9. age: age at onset\n",
    "10. chd: coronary heart disease\n",
    "\n",
    "you can take more information about the dataset [here](https://www.kaggle.com/yassinehamdaoui1/cardiovascular-disease)"
   ]
  },
  {
   "cell_type": "code",
   "execution_count": 6,
   "metadata": {},
   "outputs": [
    {
     "data": {
      "text/html": [
       "<div>\n",
       "<style scoped>\n",
       "    .dataframe tbody tr th:only-of-type {\n",
       "        vertical-align: middle;\n",
       "    }\n",
       "\n",
       "    .dataframe tbody tr th {\n",
       "        vertical-align: top;\n",
       "    }\n",
       "\n",
       "    .dataframe thead th {\n",
       "        text-align: right;\n",
       "    }\n",
       "</style>\n",
       "<table border=\"1\" class=\"dataframe\">\n",
       "  <thead>\n",
       "    <tr style=\"text-align: right;\">\n",
       "      <th></th>\n",
       "      <th>sbp</th>\n",
       "      <th>tobacco</th>\n",
       "      <th>ldl</th>\n",
       "      <th>adiposity</th>\n",
       "      <th>typea</th>\n",
       "      <th>obesity</th>\n",
       "      <th>alcohol</th>\n",
       "      <th>age</th>\n",
       "    </tr>\n",
       "    <tr>\n",
       "      <th>ind</th>\n",
       "      <th></th>\n",
       "      <th></th>\n",
       "      <th></th>\n",
       "      <th></th>\n",
       "      <th></th>\n",
       "      <th></th>\n",
       "      <th></th>\n",
       "      <th></th>\n",
       "    </tr>\n",
       "  </thead>\n",
       "  <tbody>\n",
       "    <tr>\n",
       "      <th>1</th>\n",
       "      <td>160</td>\n",
       "      <td>12.00</td>\n",
       "      <td>5.73</td>\n",
       "      <td>23.11</td>\n",
       "      <td>49</td>\n",
       "      <td>25.30</td>\n",
       "      <td>97.20</td>\n",
       "      <td>52</td>\n",
       "    </tr>\n",
       "    <tr>\n",
       "      <th>2</th>\n",
       "      <td>144</td>\n",
       "      <td>0.01</td>\n",
       "      <td>4.41</td>\n",
       "      <td>28.61</td>\n",
       "      <td>55</td>\n",
       "      <td>28.87</td>\n",
       "      <td>2.06</td>\n",
       "      <td>63</td>\n",
       "    </tr>\n",
       "    <tr>\n",
       "      <th>3</th>\n",
       "      <td>118</td>\n",
       "      <td>0.08</td>\n",
       "      <td>3.48</td>\n",
       "      <td>32.28</td>\n",
       "      <td>52</td>\n",
       "      <td>29.14</td>\n",
       "      <td>3.81</td>\n",
       "      <td>46</td>\n",
       "    </tr>\n",
       "    <tr>\n",
       "      <th>4</th>\n",
       "      <td>170</td>\n",
       "      <td>7.50</td>\n",
       "      <td>6.41</td>\n",
       "      <td>38.03</td>\n",
       "      <td>51</td>\n",
       "      <td>31.99</td>\n",
       "      <td>24.26</td>\n",
       "      <td>58</td>\n",
       "    </tr>\n",
       "    <tr>\n",
       "      <th>5</th>\n",
       "      <td>134</td>\n",
       "      <td>13.60</td>\n",
       "      <td>3.50</td>\n",
       "      <td>27.78</td>\n",
       "      <td>60</td>\n",
       "      <td>25.99</td>\n",
       "      <td>57.34</td>\n",
       "      <td>49</td>\n",
       "    </tr>\n",
       "  </tbody>\n",
       "</table>\n",
       "</div>"
      ],
      "text/plain": [
       "     sbp tobacco   ldl adiposity  typea obesity alcohol  age\n",
       "ind                                                         \n",
       "1    160   12.00  5.73     23.11     49   25.30   97.20   52\n",
       "2    144    0.01  4.41     28.61     55   28.87    2.06   63\n",
       "3    118    0.08  3.48     32.28     52   29.14    3.81   46\n",
       "4    170    7.50  6.41     38.03     51   31.99   24.26   58\n",
       "5    134   13.60  3.50     27.78     60   25.99   57.34   49"
      ]
     },
     "execution_count": 6,
     "metadata": {},
     "output_type": "execute_result"
    }
   ],
   "source": [
    "df.head()"
   ]
  },
  {
   "cell_type": "code",
   "execution_count": 7,
   "metadata": {},
   "outputs": [
    {
     "data": {
      "text/plain": [
       "sbp           int64\n",
       "tobacco      object\n",
       "ldl          object\n",
       "adiposity    object\n",
       "typea         int64\n",
       "obesity      object\n",
       "alcohol      object\n",
       "age           int64\n",
       "dtype: object"
      ]
     },
     "execution_count": 7,
     "metadata": {},
     "output_type": "execute_result"
    }
   ],
   "source": [
    "df.dtypes"
   ]
  },
  {
   "cell_type": "markdown",
   "metadata": {},
   "source": [
    "We need to convert object types to float"
   ]
  },
  {
   "cell_type": "code",
   "execution_count": 8,
   "metadata": {},
   "outputs": [],
   "source": [
    "df = df.astype('float')"
   ]
  },
  {
   "cell_type": "code",
   "execution_count": 9,
   "metadata": {},
   "outputs": [
    {
     "data": {
      "text/plain": [
       "sbp          float64\n",
       "tobacco      float64\n",
       "ldl          float64\n",
       "adiposity    float64\n",
       "typea        float64\n",
       "obesity      float64\n",
       "alcohol      float64\n",
       "age          float64\n",
       "dtype: object"
      ]
     },
     "execution_count": 9,
     "metadata": {},
     "output_type": "execute_result"
    }
   ],
   "source": [
    "df.dtypes"
   ]
  },
  {
   "cell_type": "markdown",
   "metadata": {},
   "source": [
    "## Data Description"
   ]
  },
  {
   "cell_type": "code",
   "execution_count": 10,
   "metadata": {},
   "outputs": [
    {
     "data": {
      "text/html": [
       "<div>\n",
       "<style scoped>\n",
       "    .dataframe tbody tr th:only-of-type {\n",
       "        vertical-align: middle;\n",
       "    }\n",
       "\n",
       "    .dataframe tbody tr th {\n",
       "        vertical-align: top;\n",
       "    }\n",
       "\n",
       "    .dataframe thead th {\n",
       "        text-align: right;\n",
       "    }\n",
       "</style>\n",
       "<table border=\"1\" class=\"dataframe\">\n",
       "  <thead>\n",
       "    <tr style=\"text-align: right;\">\n",
       "      <th></th>\n",
       "      <th>sbp</th>\n",
       "      <th>tobacco</th>\n",
       "      <th>ldl</th>\n",
       "      <th>adiposity</th>\n",
       "      <th>typea</th>\n",
       "      <th>obesity</th>\n",
       "      <th>alcohol</th>\n",
       "      <th>age</th>\n",
       "    </tr>\n",
       "  </thead>\n",
       "  <tbody>\n",
       "    <tr>\n",
       "      <th>count</th>\n",
       "      <td>462.000000</td>\n",
       "      <td>462.000000</td>\n",
       "      <td>462.000000</td>\n",
       "      <td>462.000000</td>\n",
       "      <td>462.000000</td>\n",
       "      <td>462.000000</td>\n",
       "      <td>462.000000</td>\n",
       "      <td>462.000000</td>\n",
       "    </tr>\n",
       "    <tr>\n",
       "      <th>mean</th>\n",
       "      <td>138.326840</td>\n",
       "      <td>3.635649</td>\n",
       "      <td>4.740325</td>\n",
       "      <td>25.406732</td>\n",
       "      <td>53.103896</td>\n",
       "      <td>26.044113</td>\n",
       "      <td>17.044394</td>\n",
       "      <td>42.816017</td>\n",
       "    </tr>\n",
       "    <tr>\n",
       "      <th>std</th>\n",
       "      <td>20.496317</td>\n",
       "      <td>4.593024</td>\n",
       "      <td>2.070909</td>\n",
       "      <td>7.780699</td>\n",
       "      <td>9.817534</td>\n",
       "      <td>4.213680</td>\n",
       "      <td>24.481059</td>\n",
       "      <td>14.608956</td>\n",
       "    </tr>\n",
       "    <tr>\n",
       "      <th>min</th>\n",
       "      <td>101.000000</td>\n",
       "      <td>0.000000</td>\n",
       "      <td>0.980000</td>\n",
       "      <td>6.740000</td>\n",
       "      <td>13.000000</td>\n",
       "      <td>14.700000</td>\n",
       "      <td>0.000000</td>\n",
       "      <td>15.000000</td>\n",
       "    </tr>\n",
       "    <tr>\n",
       "      <th>25%</th>\n",
       "      <td>124.000000</td>\n",
       "      <td>0.052500</td>\n",
       "      <td>3.282500</td>\n",
       "      <td>19.775000</td>\n",
       "      <td>47.000000</td>\n",
       "      <td>22.985000</td>\n",
       "      <td>0.510000</td>\n",
       "      <td>31.000000</td>\n",
       "    </tr>\n",
       "    <tr>\n",
       "      <th>50%</th>\n",
       "      <td>134.000000</td>\n",
       "      <td>2.000000</td>\n",
       "      <td>4.340000</td>\n",
       "      <td>26.115000</td>\n",
       "      <td>53.000000</td>\n",
       "      <td>25.805000</td>\n",
       "      <td>7.510000</td>\n",
       "      <td>45.000000</td>\n",
       "    </tr>\n",
       "    <tr>\n",
       "      <th>75%</th>\n",
       "      <td>148.000000</td>\n",
       "      <td>5.500000</td>\n",
       "      <td>5.790000</td>\n",
       "      <td>31.227500</td>\n",
       "      <td>60.000000</td>\n",
       "      <td>28.497500</td>\n",
       "      <td>23.892500</td>\n",
       "      <td>55.000000</td>\n",
       "    </tr>\n",
       "    <tr>\n",
       "      <th>max</th>\n",
       "      <td>218.000000</td>\n",
       "      <td>31.200000</td>\n",
       "      <td>15.330000</td>\n",
       "      <td>42.490000</td>\n",
       "      <td>78.000000</td>\n",
       "      <td>46.580000</td>\n",
       "      <td>147.190000</td>\n",
       "      <td>64.000000</td>\n",
       "    </tr>\n",
       "  </tbody>\n",
       "</table>\n",
       "</div>"
      ],
      "text/plain": [
       "              sbp     tobacco         ldl   adiposity       typea     obesity  \\\n",
       "count  462.000000  462.000000  462.000000  462.000000  462.000000  462.000000   \n",
       "mean   138.326840    3.635649    4.740325   25.406732   53.103896   26.044113   \n",
       "std     20.496317    4.593024    2.070909    7.780699    9.817534    4.213680   \n",
       "min    101.000000    0.000000    0.980000    6.740000   13.000000   14.700000   \n",
       "25%    124.000000    0.052500    3.282500   19.775000   47.000000   22.985000   \n",
       "50%    134.000000    2.000000    4.340000   26.115000   53.000000   25.805000   \n",
       "75%    148.000000    5.500000    5.790000   31.227500   60.000000   28.497500   \n",
       "max    218.000000   31.200000   15.330000   42.490000   78.000000   46.580000   \n",
       "\n",
       "          alcohol         age  \n",
       "count  462.000000  462.000000  \n",
       "mean    17.044394   42.816017  \n",
       "std     24.481059   14.608956  \n",
       "min      0.000000   15.000000  \n",
       "25%      0.510000   31.000000  \n",
       "50%      7.510000   45.000000  \n",
       "75%     23.892500   55.000000  \n",
       "max    147.190000   64.000000  "
      ]
     },
     "execution_count": 10,
     "metadata": {},
     "output_type": "execute_result"
    }
   ],
   "source": [
    "df.describe()"
   ]
  },
  {
   "cell_type": "code",
   "execution_count": 11,
   "metadata": {},
   "outputs": [
    {
     "name": "stdout",
     "output_type": "stream",
     "text": [
      "Absent     0.584416\n",
      "Present    0.415584\n",
      "Name: famhist, dtype: float64\n",
      "0    0.65368\n",
      "1    0.34632\n",
      "Name: chd, dtype: float64\n"
     ]
    },
    {
     "data": {
      "image/png": "[encoded data removed]",
      "text/plain": [
       "<Figure size 1224x288 with 2 Axes>"
      ]
     },
     "metadata": {
      "needs_background": "light"
     },
     "output_type": "display_data"
    }
   ],
   "source": [
    "famhist_height = data.famhist.value_counts()/data.shape[0]\n",
    "\n",
    "chd_height =data.chd.value_counts()/data.shape[0]\n",
    "\n",
    "print(famhist_height)\n",
    "print(chd_height)\n",
    "\n",
    "fig = plt.figure(figsize=(17,4))\n",
    "ax1 = fig.add_subplot(1, 2, 1)\n",
    "plt.bar(x=['Absent','Present'],height=famhist_height,color='yellow')\n",
    "ax2 = fig.add_subplot(1, 2, 2)\n",
    "plt.bar(x=['No Crises crise','Crise'],height=chd_height,color='b')\n",
    "plt.show()"
   ]
  },
  {
   "cell_type": "code",
   "execution_count": 12,
   "metadata": {},
   "outputs": [
    {
     "data": {
      "image/png": "[encoded data removed]",
      "text/plain": [
       "<Figure size 1152x360 with 1 Axes>"
      ]
     },
     "metadata": {
      "needs_background": "light"
     },
     "output_type": "display_data"
    }
   ],
   "source": [
    "plt.figure(figsize=(16,5))\n",
    "df.boxplot()\n",
    "plt.title(\"Distribution of the values ​​of all potential predictors\")\n",
    "plt.show()"
   ]
  },
  {
   "cell_type": "markdown",
   "metadata": {},
   "source": [
    "We observe a large Scale difference between variables. \n",
    "We need to standardize them to avoid  those with large scales wrongly have too much weight in the calculations.\n",
    "Regarding abberant values, their effect should be reduced by methods that are not very sensitive to them."
   ]
  },
  {
   "cell_type": "code",
   "execution_count": 13,
   "metadata": {},
   "outputs": [],
   "source": [
    "df=StandardScaler().fit_transform(df)\n",
    "\n",
    "df=pd.DataFrame(df,columns=['sbp', 'tobacco', 'ldl', 'adiposity','obesity','alcohol', 'age','typea'])\n",
    "\n",
    "df.index=data.index"
   ]
  },
  {
   "cell_type": "code",
   "execution_count": 14,
   "metadata": {},
   "outputs": [
    {
     "data": {
      "text/html": [
       "<div>\n",
       "<style scoped>\n",
       "    .dataframe tbody tr th:only-of-type {\n",
       "        vertical-align: middle;\n",
       "    }\n",
       "\n",
       "    .dataframe tbody tr th {\n",
       "        vertical-align: top;\n",
       "    }\n",
       "\n",
       "    .dataframe thead th {\n",
       "        text-align: right;\n",
       "    }\n",
       "</style>\n",
       "<table border=\"1\" class=\"dataframe\">\n",
       "  <thead>\n",
       "    <tr style=\"text-align: right;\">\n",
       "      <th></th>\n",
       "      <th>sbp</th>\n",
       "      <th>tobacco</th>\n",
       "      <th>ldl</th>\n",
       "      <th>adiposity</th>\n",
       "      <th>obesity</th>\n",
       "      <th>alcohol</th>\n",
       "      <th>age</th>\n",
       "      <th>typea</th>\n",
       "    </tr>\n",
       "    <tr>\n",
       "      <th>ind</th>\n",
       "      <th></th>\n",
       "      <th></th>\n",
       "      <th></th>\n",
       "      <th></th>\n",
       "      <th></th>\n",
       "      <th></th>\n",
       "      <th></th>\n",
       "      <th></th>\n",
       "    </tr>\n",
       "  </thead>\n",
       "  <tbody>\n",
       "    <tr>\n",
       "      <th>1</th>\n",
       "      <td>1.058564</td>\n",
       "      <td>1.823073</td>\n",
       "      <td>0.478412</td>\n",
       "      <td>-0.295503</td>\n",
       "      <td>-0.418470</td>\n",
       "      <td>-0.176786</td>\n",
       "      <td>3.277738</td>\n",
       "      <td>0.629336</td>\n",
       "    </tr>\n",
       "    <tr>\n",
       "      <th>2</th>\n",
       "      <td>0.277089</td>\n",
       "      <td>-0.790237</td>\n",
       "      <td>-0.159680</td>\n",
       "      <td>0.412140</td>\n",
       "      <td>0.193344</td>\n",
       "      <td>0.671373</td>\n",
       "      <td>-0.612745</td>\n",
       "      <td>1.383115</td>\n",
       "    </tr>\n",
       "    <tr>\n",
       "      <th>3</th>\n",
       "      <td>-0.992806</td>\n",
       "      <td>-0.774980</td>\n",
       "      <td>-0.609245</td>\n",
       "      <td>0.884332</td>\n",
       "      <td>-0.112563</td>\n",
       "      <td>0.735519</td>\n",
       "      <td>-0.541183</td>\n",
       "      <td>0.218184</td>\n",
       "    </tr>\n",
       "    <tr>\n",
       "      <th>4</th>\n",
       "      <td>1.546985</td>\n",
       "      <td>0.842264</td>\n",
       "      <td>0.807126</td>\n",
       "      <td>1.624141</td>\n",
       "      <td>-0.214532</td>\n",
       "      <td>1.412621</td>\n",
       "      <td>0.295062</td>\n",
       "      <td>1.040488</td>\n",
       "    </tr>\n",
       "    <tr>\n",
       "      <th>5</th>\n",
       "      <td>-0.211332</td>\n",
       "      <td>2.171805</td>\n",
       "      <td>-0.599577</td>\n",
       "      <td>0.305351</td>\n",
       "      <td>0.703189</td>\n",
       "      <td>-0.012856</td>\n",
       "      <td>1.647775</td>\n",
       "      <td>0.423760</td>\n",
       "    </tr>\n",
       "  </tbody>\n",
       "</table>\n",
       "</div>"
      ],
      "text/plain": [
       "          sbp   tobacco       ldl  adiposity   obesity   alcohol       age  \\\n",
       "ind                                                                          \n",
       "1    1.058564  1.823073  0.478412  -0.295503 -0.418470 -0.176786  3.277738   \n",
       "2    0.277089 -0.790237 -0.159680   0.412140  0.193344  0.671373 -0.612745   \n",
       "3   -0.992806 -0.774980 -0.609245   0.884332 -0.112563  0.735519 -0.541183   \n",
       "4    1.546985  0.842264  0.807126   1.624141 -0.214532  1.412621  0.295062   \n",
       "5   -0.211332  2.171805 -0.599577   0.305351  0.703189 -0.012856  1.647775   \n",
       "\n",
       "        typea  \n",
       "ind            \n",
       "1    0.629336  \n",
       "2    1.383115  \n",
       "3    0.218184  \n",
       "4    1.040488  \n",
       "5    0.423760  "
      ]
     },
     "execution_count": 14,
     "metadata": {},
     "output_type": "execute_result"
    }
   ],
   "source": [
    "df.head()"
   ]
  },
  {
   "cell_type": "markdown",
   "metadata": {},
   "source": [
    "Let's Add the family history and the target to our dataframe"
   ]
  },
  {
   "cell_type": "code",
   "execution_count": 15,
   "metadata": {},
   "outputs": [
    {
     "data": {
      "text/html": [
       "<div>\n",
       "<style scoped>\n",
       "    .dataframe tbody tr th:only-of-type {\n",
       "        vertical-align: middle;\n",
       "    }\n",
       "\n",
       "    .dataframe tbody tr th {\n",
       "        vertical-align: top;\n",
       "    }\n",
       "\n",
       "    .dataframe thead th {\n",
       "        text-align: right;\n",
       "    }\n",
       "</style>\n",
       "<table border=\"1\" class=\"dataframe\">\n",
       "  <thead>\n",
       "    <tr style=\"text-align: right;\">\n",
       "      <th></th>\n",
       "      <th>sbp</th>\n",
       "      <th>tobacco</th>\n",
       "      <th>ldl</th>\n",
       "      <th>adiposity</th>\n",
       "      <th>obesity</th>\n",
       "      <th>alcohol</th>\n",
       "      <th>age</th>\n",
       "      <th>typea</th>\n",
       "      <th>famhist</th>\n",
       "      <th>chd</th>\n",
       "    </tr>\n",
       "    <tr>\n",
       "      <th>ind</th>\n",
       "      <th></th>\n",
       "      <th></th>\n",
       "      <th></th>\n",
       "      <th></th>\n",
       "      <th></th>\n",
       "      <th></th>\n",
       "      <th></th>\n",
       "      <th></th>\n",
       "      <th></th>\n",
       "      <th></th>\n",
       "    </tr>\n",
       "  </thead>\n",
       "  <tbody>\n",
       "    <tr>\n",
       "      <th>1</th>\n",
       "      <td>1.058564</td>\n",
       "      <td>1.823073</td>\n",
       "      <td>0.478412</td>\n",
       "      <td>-0.295503</td>\n",
       "      <td>-0.418470</td>\n",
       "      <td>-0.176786</td>\n",
       "      <td>3.277738</td>\n",
       "      <td>0.629336</td>\n",
       "      <td>Present</td>\n",
       "      <td>1</td>\n",
       "    </tr>\n",
       "    <tr>\n",
       "      <th>2</th>\n",
       "      <td>0.277089</td>\n",
       "      <td>-0.790237</td>\n",
       "      <td>-0.159680</td>\n",
       "      <td>0.412140</td>\n",
       "      <td>0.193344</td>\n",
       "      <td>0.671373</td>\n",
       "      <td>-0.612745</td>\n",
       "      <td>1.383115</td>\n",
       "      <td>Absent</td>\n",
       "      <td>1</td>\n",
       "    </tr>\n",
       "    <tr>\n",
       "      <th>3</th>\n",
       "      <td>-0.992806</td>\n",
       "      <td>-0.774980</td>\n",
       "      <td>-0.609245</td>\n",
       "      <td>0.884332</td>\n",
       "      <td>-0.112563</td>\n",
       "      <td>0.735519</td>\n",
       "      <td>-0.541183</td>\n",
       "      <td>0.218184</td>\n",
       "      <td>Present</td>\n",
       "      <td>0</td>\n",
       "    </tr>\n",
       "    <tr>\n",
       "      <th>4</th>\n",
       "      <td>1.546985</td>\n",
       "      <td>0.842264</td>\n",
       "      <td>0.807126</td>\n",
       "      <td>1.624141</td>\n",
       "      <td>-0.214532</td>\n",
       "      <td>1.412621</td>\n",
       "      <td>0.295062</td>\n",
       "      <td>1.040488</td>\n",
       "      <td>Present</td>\n",
       "      <td>1</td>\n",
       "    </tr>\n",
       "    <tr>\n",
       "      <th>5</th>\n",
       "      <td>-0.211332</td>\n",
       "      <td>2.171805</td>\n",
       "      <td>-0.599577</td>\n",
       "      <td>0.305351</td>\n",
       "      <td>0.703189</td>\n",
       "      <td>-0.012856</td>\n",
       "      <td>1.647775</td>\n",
       "      <td>0.423760</td>\n",
       "      <td>Present</td>\n",
       "      <td>1</td>\n",
       "    </tr>\n",
       "  </tbody>\n",
       "</table>\n",
       "</div>"
      ],
      "text/plain": [
       "          sbp   tobacco       ldl  adiposity   obesity   alcohol       age  \\\n",
       "ind                                                                          \n",
       "1    1.058564  1.823073  0.478412  -0.295503 -0.418470 -0.176786  3.277738   \n",
       "2    0.277089 -0.790237 -0.159680   0.412140  0.193344  0.671373 -0.612745   \n",
       "3   -0.992806 -0.774980 -0.609245   0.884332 -0.112563  0.735519 -0.541183   \n",
       "4    1.546985  0.842264  0.807126   1.624141 -0.214532  1.412621  0.295062   \n",
       "5   -0.211332  2.171805 -0.599577   0.305351  0.703189 -0.012856  1.647775   \n",
       "\n",
       "        typea  famhist  chd  \n",
       "ind                          \n",
       "1    0.629336  Present    1  \n",
       "2    1.383115   Absent    1  \n",
       "3    0.218184  Present    0  \n",
       "4    1.040488  Present    1  \n",
       "5    0.423760  Present    1  "
      ]
     },
     "execution_count": 15,
     "metadata": {},
     "output_type": "execute_result"
    }
   ],
   "source": [
    "df1=pd.concat([df,data.famhist,data.chd],axis=1)\n",
    "\n",
    "# and take a look \n",
    "df1.head()"
   ]
  },
  {
   "cell_type": "code",
   "execution_count": 16,
   "metadata": {},
   "outputs": [
    {
     "data": {
      "image/png": "[encoded data removed]",
      "text/plain": [
       "<Figure size 1152x360 with 1 Axes>"
      ]
     },
     "metadata": {
      "needs_background": "light"
     },
     "output_type": "display_data"
    }
   ],
   "source": [
    "plt.figure(figsize=(16,5))\n",
    "sea.boxplot(data=df1.iloc[:,:-2])\n",
    "plt.title(\"Distribution of the values ​​of all potential standardized predictors\")\n",
    "plt.grid()\n",
    "plt.show()"
   ]
  },
  {
   "cell_type": "markdown",
   "metadata": {},
   "source": [
    "looks better with standardization :) !!"
   ]
  },
  {
   "cell_type": "markdown",
   "metadata": {},
   "source": [
    "## Dimensionality Reduction"
   ]
  },
  {
   "cell_type": "markdown",
   "metadata": {},
   "source": [
    "### Correlation :"
   ]
  },
  {
   "cell_type": "code",
   "execution_count": 17,
   "metadata": {},
   "outputs": [
    {
     "data": {
      "image/png": "[encoded data removed]",
      "text/plain": [
       "<Figure size 432x288 with 2 Axes>"
      ]
     },
     "metadata": {
      "needs_background": "light"
     },
     "output_type": "display_data"
    }
   ],
   "source": [
    "R=round(df.corr(),ndigits=3)\n",
    "sea.heatmap(round(R,ndigits=2))\n",
    "plt.show()"
   ]
  },
  {
   "cell_type": "markdown",
   "metadata": {},
   "source": [
    "## Interpretation"
   ]
  },
  {
   "cell_type": "markdown",
   "metadata": {},
   "source": [
    "\n",
    "The observation of the coefficients of the correlation matrix above suggests that:\n",
    "\n",
    "- Age is correlated with tobacco consumption and level of adiposity;\n",
    "- Obesity is strongly correlated with adiposity;\n",
    "- Idl is correlated with adiposity.\n",
    "- In short, older and obese subjects tend to have more fat accumulated under\n",
    "  the skin."
   ]
  },
  {
   "cell_type": "markdown",
   "metadata": {},
   "source": [
    "## Bartlett's sphericity test"
   ]
  },
  {
   "cell_type": "code",
   "execution_count": 18,
   "metadata": {},
   "outputs": [],
   "source": [
    "n=df.shape[0]\n",
    "p=df.shape[1]\n",
    "\n",
    "khi2=-(n-1-(2*p+5)/6)*mt.log(np.linalg.det(R)) # chi test\n",
    "\n",
    "ddl=p*(p-1)/2\n",
    "\n",
    "p_valeur=scipy.stats.chi2.pdf(khi2,ddl)"
   ]
  },
  {
   "cell_type": "markdown",
   "metadata": {},
   "source": [
    "check the p-value"
   ]
  },
  {
   "cell_type": "code",
   "execution_count": 19,
   "metadata": {},
   "outputs": [
    {
     "name": "stdout",
     "output_type": "stream",
     "text": [
      "True\n"
     ]
    }
   ],
   "source": [
    "print(p_valeur < 0.01)"
   ]
  },
  {
   "cell_type": "markdown",
   "metadata": {},
   "source": [
    "Conclusion of the sphericity test : \n",
    "\n",
    "Hypothesis : Othogonality of the variables\n",
    "\n",
    "Since the p-value is less than the chosen threshold, we reject the null hypothesis of orthogonality of\n",
    "variables.\n",
    "\n",
    "so : PCA is therefore relevant within the meaning of this test.\n"
   ]
  },
  {
   "cell_type": "markdown",
   "metadata": {},
   "source": [
    "## Kaiser’s Measure of Sampling Adequacy"
   ]
  },
  {
   "cell_type": "code",
   "execution_count": 20,
   "metadata": {},
   "outputs": [
    {
     "name": "stdout",
     "output_type": "stream",
     "text": [
      "kmo : 0.67\n"
     ]
    }
   ],
   "source": [
    "inv_R=np.linalg.inv(R)\n",
    "\n",
    "A=np.zeros(shape=(inv_R.shape[0],inv_R.shape[1]))\n",
    "for i in range(inv_R.shape[0]):\n",
    "    for j in range(i+1,inv_R.shape[1]):\n",
    "        A[i,j]= -inv_R[i,j]/np.sqrt(inv_R[i,i]*inv_R[j,j])\n",
    "        A[j,i]=A[i,j]\n",
    "        \n",
    "R=R.values\n",
    "\n",
    "kmo_numerateur= np.sum(R**2)-np.sum(np.diag(R**2))\n",
    "kmo_denominateur=kmo_numerateur + (np.sum(A**2)-np.sum(np.diag(A**2)))\n",
    "kmo=kmo_numerateur/kmo_denominateur\n",
    "\n",
    "print(\"kmo :\",round(kmo,ndigits=2))"
   ]
  },
  {
   "cell_type": "markdown",
   "metadata": {},
   "source": [
    "Since the kmo index is between 0.6 and 0.7,\n",
    "a compression relevant index can be obtained.\n",
    "Since some of the values ​​seemed to remain extreme, we are trying a less sensitive approach to them"
   ]
  },
  {
   "cell_type": "markdown",
   "metadata": {},
   "source": [
    "\n",
    "### Correlation matrix (Spearman)"
   ]
  },
  {
   "cell_type": "code",
   "execution_count": 21,
   "metadata": {},
   "outputs": [
    {
     "data": {
      "image/png": "[encoded data removed]",
      "text/plain": [
       "<Figure size 432x288 with 2 Axes>"
      ]
     },
     "metadata": {
      "needs_background": "light"
     },
     "output_type": "display_data"
    }
   ],
   "source": [
    "R=round(df.corr(method='spearman'),ndigits=3)\n",
    "sea.heatmap(round(R,ndigits=2))\n",
    "plt.show()"
   ]
  },
  {
   "cell_type": "markdown",
   "metadata": {},
   "source": [
    "### Correlation matrix (Kendall)"
   ]
  },
  {
   "cell_type": "code",
   "execution_count": 22,
   "metadata": {},
   "outputs": [
    {
     "data": {
      "image/png": "[encoded data removed]",
      "text/plain": [
       "<Figure size 432x288 with 2 Axes>"
      ]
     },
     "metadata": {
      "needs_background": "light"
     },
     "output_type": "display_data"
    }
   ],
   "source": [
    "R=round(df.corr(method='kendall'),ndigits=3)\n",
    "sea.heatmap(round(R,ndigits=2))\n",
    "plt.show()"
   ]
  },
  {
   "cell_type": "markdown",
   "metadata": {},
   "source": [
    "A non-parametric PCA based on the Spearman correlation matrix is ​​performed in\n",
    "due to the presence of many atypical values"
   ]
  },
  {
   "cell_type": "code",
   "execution_count": 23,
   "metadata": {},
   "outputs": [],
   "source": [
    "#rank the group of records that have the same value\n",
    "df=df.rank()"
   ]
  },
  {
   "cell_type": "markdown",
   "metadata": {},
   "source": [
    "### Principal Component Analysis (PCA)"
   ]
  },
  {
   "cell_type": "code",
   "execution_count": 24,
   "metadata": {},
   "outputs": [],
   "source": [
    "from sklearn.decomposition import PCA\n",
    "from sklearn.model_selection import train_test_split\n"
   ]
  },
  {
   "cell_type": "code",
   "execution_count": 25,
   "metadata": {},
   "outputs": [],
   "source": [
    "# let's split our data into I/O\n",
    "X=df.iloc[:,:-1] ; y=df1['chd']\n",
    "\n",
    "X_train,X_test,y_train,y_test=train_test_split(X,y,test_size=0.25,random_state=23) "
   ]
  },
  {
   "cell_type": "code",
   "execution_count": 26,
   "metadata": {},
   "outputs": [
    {
     "name": "stdout",
     "output_type": "stream",
     "text": [
      "(346, 7)\n"
     ]
    }
   ],
   "source": [
    "print( X_train.shape)"
   ]
  },
  {
   "cell_type": "code",
   "execution_count": 27,
   "metadata": {},
   "outputs": [
    {
     "name": "stdout",
     "output_type": "stream",
     "text": [
      "(116, 7)\n"
     ]
    }
   ],
   "source": [
    "print(X_test.shape)"
   ]
  },
  {
   "cell_type": "code",
   "execution_count": 28,
   "metadata": {},
   "outputs": [],
   "source": [
    "pca=PCA(n_components=5) # split in 5 components\n",
    "\n",
    "principalComponents = pca.fit_transform(X_train)\n",
    "\n",
    "factors_Df = pd.DataFrame(data = principalComponents, columns =['PC1','PC2','PC3','PC4','PC5'])\n",
    "\n",
    "factors_Df.index=X_train.index"
   ]
  },
  {
   "cell_type": "code",
   "execution_count": 29,
   "metadata": {},
   "outputs": [
    {
     "data": {
      "text/html": [
       "<div>\n",
       "<style scoped>\n",
       "    .dataframe tbody tr th:only-of-type {\n",
       "        vertical-align: middle;\n",
       "    }\n",
       "\n",
       "    .dataframe tbody tr th {\n",
       "        vertical-align: top;\n",
       "    }\n",
       "\n",
       "    .dataframe thead th {\n",
       "        text-align: right;\n",
       "    }\n",
       "</style>\n",
       "<table border=\"1\" class=\"dataframe\">\n",
       "  <thead>\n",
       "    <tr style=\"text-align: right;\">\n",
       "      <th></th>\n",
       "      <th>PC1</th>\n",
       "      <th>PC2</th>\n",
       "      <th>PC3</th>\n",
       "      <th>PC4</th>\n",
       "      <th>PC5</th>\n",
       "    </tr>\n",
       "    <tr>\n",
       "      <th>ind</th>\n",
       "      <th></th>\n",
       "      <th></th>\n",
       "      <th></th>\n",
       "      <th></th>\n",
       "      <th></th>\n",
       "    </tr>\n",
       "  </thead>\n",
       "  <tbody>\n",
       "    <tr>\n",
       "      <th>28</th>\n",
       "      <td>-59.137200</td>\n",
       "      <td>137.746866</td>\n",
       "      <td>-165.673322</td>\n",
       "      <td>35.629031</td>\n",
       "      <td>-186.595578</td>\n",
       "    </tr>\n",
       "    <tr>\n",
       "      <th>360</th>\n",
       "      <td>-76.538494</td>\n",
       "      <td>115.476013</td>\n",
       "      <td>150.617470</td>\n",
       "      <td>134.663595</td>\n",
       "      <td>33.065346</td>\n",
       "    </tr>\n",
       "    <tr>\n",
       "      <th>389</th>\n",
       "      <td>-231.398449</td>\n",
       "      <td>-57.996278</td>\n",
       "      <td>92.309157</td>\n",
       "      <td>42.187143</td>\n",
       "      <td>-147.895106</td>\n",
       "    </tr>\n",
       "    <tr>\n",
       "      <th>322</th>\n",
       "      <td>-52.422975</td>\n",
       "      <td>88.987756</td>\n",
       "      <td>-52.167519</td>\n",
       "      <td>-197.749086</td>\n",
       "      <td>120.181623</td>\n",
       "    </tr>\n",
       "    <tr>\n",
       "      <th>252</th>\n",
       "      <td>227.139305</td>\n",
       "      <td>-229.256165</td>\n",
       "      <td>-6.883820</td>\n",
       "      <td>-7.120955</td>\n",
       "      <td>-98.990768</td>\n",
       "    </tr>\n",
       "  </tbody>\n",
       "</table>\n",
       "</div>"
      ],
      "text/plain": [
       "            PC1         PC2         PC3         PC4         PC5\n",
       "ind                                                            \n",
       "28   -59.137200  137.746866 -165.673322   35.629031 -186.595578\n",
       "360  -76.538494  115.476013  150.617470  134.663595   33.065346\n",
       "389 -231.398449  -57.996278   92.309157   42.187143 -147.895106\n",
       "322  -52.422975   88.987756  -52.167519 -197.749086  120.181623\n",
       "252  227.139305 -229.256165   -6.883820   -7.120955  -98.990768"
      ]
     },
     "execution_count": 29,
     "metadata": {},
     "output_type": "execute_result"
    }
   ],
   "source": [
    "# take a look\n",
    "factors_Df.head()"
   ]
  },
  {
   "cell_type": "code",
   "execution_count": 30,
   "metadata": {},
   "outputs": [
    {
     "name": "stdout",
     "output_type": "stream",
     "text": [
      "[0.36972103 0.16203157 0.15050121 0.1108632  0.10189052]\n",
      "[0.36972103 0.5317526  0.68225381 0.793117   0.89500752]\n",
      "0.8950075163890064\n"
     ]
    }
   ],
   "source": [
    "# let's summary \n",
    "print(pca.explained_variance_ratio_)\n",
    "print(pca.explained_variance_ratio_.cumsum())\n",
    "print(pca.explained_variance_ratio_.sum())"
   ]
  },
  {
   "cell_type": "markdown",
   "metadata": {},
   "source": [
    "The shared inertia explained by the first 5 components is around 90%"
   ]
  },
  {
   "cell_type": "markdown",
   "metadata": {},
   "source": [
    "## Visualization of the explained variance"
   ]
  },
  {
   "cell_type": "code",
   "execution_count": 31,
   "metadata": {},
   "outputs": [
    {
     "data": {
      "image/png": "[encoded data removed]",
      "text/plain": [
       "<Figure size 1008x432 with 2 Axes>"
      ]
     },
     "metadata": {
      "needs_background": "light"
     },
     "output_type": "display_data"
    }
   ],
   "source": [
    "fig = plt.figure(figsize=(14,6))\n",
    "ax1 = fig.add_subplot(1, 2, 1)\n",
    "ax2 = fig.add_subplot(1, 2, 2)\n",
    "\n",
    "ax1.plot(np.arange(1,6),pca.explained_variance_ratio_,color='b',marker='o')\n",
    "ax2.plot(np.arange(1,6),np.cumsum(pca.explained_variance_ratio_),color='gold',marker='o')\n",
    "\n",
    "ax1.set_xlabel('Factors')\n",
    "ax1.set_title('Explained variance')\n",
    "ax2.set_xlabel('Factors')\n",
    "ax2.set_title('Explained variance cumsum')\n",
    "\n",
    "plt.show()"
   ]
  },
  {
   "cell_type": "markdown",
   "metadata": {},
   "source": [
    "## Visualization of projections variables"
   ]
  },
  {
   "cell_type": "code",
   "execution_count": 32,
   "metadata": {},
   "outputs": [
    {
     "data": {
      "image/png": "[encoded data removed]",
      "text/plain": [
       "<Figure size 648x648 with 1 Axes>"
      ]
     },
     "metadata": {
      "needs_background": "light"
     },
     "output_type": "display_data"
    }
   ],
   "source": [
    "var_fig=plt.figure(figsize=(9,9)) ; pcs = pca.components_\n",
    "\n",
    "for i, (x, y) in enumerate(zip(pcs[0, :], pcs[1, :])):\n",
    "    # show the segment of the origin on point (x, y)\n",
    "    plt.plot([0, x], [0, y], color='green')\n",
    "    # show the composition\n",
    "    plt.text(x, y,df[['sbp','tobacco','ldl','adiposity','obesity','alcohol','age','typea']].columns[i], fontsize='14')\n",
    "\n",
    "plt.plot([-0.8, 0.8], [0, 0], color='grey', ls='--') # horizontal line y=0    \n",
    "plt.plot([0, 0], [-0.8, 0.8], color='grey', ls='--') # vertical line x=0\n",
    "plt.title('Var Projections', fontsize=19)\n",
    "cercle = plt.Circle((0.515,0.50),0.377,color='k',fill=False)\n",
    "var_fig.add_artist(cercle)\n",
    "plt.grid()"
   ]
  },
  {
   "cell_type": "markdown",
   "metadata": {},
   "source": [
    "## Projections of patients from the learning base"
   ]
  },
  {
   "cell_type": "code",
   "execution_count": 33,
   "metadata": {},
   "outputs": [],
   "source": [
    "names=pd.DataFrame(data=data.chd,columns=['chd'])\n",
    "\n",
    "final_factors_Df = pd.concat([factors_Df, data['chd']], axis = 1)\n",
    "id_factors=pd.concat([names,final_factors_Df],axis=1)\n",
    "id_factors=id_factors.sort_values(by=['PC1'])\n",
    "final_factors_Df=final_factors_Df.sort_values(by=['PC1'])"
   ]
  },
  {
   "cell_type": "code",
   "execution_count": 34,
   "metadata": {},
   "outputs": [
    {
     "data": {
      "image/png": "[encoded data removed]",
      "text/plain": [
       "<Figure size 1152x360 with 1 Axes>"
      ]
     },
     "metadata": {
      "needs_background": "light"
     },
     "output_type": "display_data"
    }
   ],
   "source": [
    "fig = plt.figure(figsize = (16,5))\n",
    "ax = fig.add_subplot(1,1,1)\n",
    "ax.set_xlabel('Principal Component 1', fontsize = 15)\n",
    "ax.set_ylabel('Principal Component 2', fontsize = 15)\n",
    "ax.set_title('Best Plan-1 (Axis 1 & 2)', fontsize = 20)\n",
    "targets = [0,1]\n",
    "colors = ['yellow','red']\n",
    "for target, color in zip(targets,colors):\n",
    "    indicesToKeep = final_factors_Df['chd'] == target\n",
    "    ax.scatter(final_factors_Df.loc[indicesToKeep, 'PC1'],final_factors_Df.loc[indicesToKeep, 'PC2'], c = color, s = 50)\n",
    "    \n",
    "ax.legend(targets)\n",
    "ax.grid()\n",
    "plt.show()"
   ]
  },
  {
   "cell_type": "code",
   "execution_count": 35,
   "metadata": {},
   "outputs": [
    {
     "data": {
      "image/png": "[encoded data removed]",
      "text/plain": [
       "<Figure size 1152x360 with 1 Axes>"
      ]
     },
     "metadata": {
      "needs_background": "light"
     },
     "output_type": "display_data"
    }
   ],
   "source": [
    "fig = plt.figure(figsize = (16,5))\n",
    "ax = fig.add_subplot(1,1,1)\n",
    "ax.set_xlabel('Principal Component 1', fontsize = 15)\n",
    "ax.set_ylabel('Principal Component 3', fontsize = 15)\n",
    "ax.set_title('Best Plan-2 (Axis 1 & 3)', fontsize = 20)\n",
    "targets = [0,1]\n",
    "colors = ['yellow','red']\n",
    "for target, color in zip(targets,colors):\n",
    "    indicesToKeep = final_factors_Df['chd'] == target\n",
    "    ax.scatter(final_factors_Df.loc[indicesToKeep, 'PC1'], final_factors_Df.loc[indicesToKeep, 'PC3'], c = color, s = 50)\n",
    "    \n",
    "ax.legend(targets)\n",
    "ax.grid()"
   ]
  },
  {
   "cell_type": "markdown",
   "metadata": {},
   "source": [
    "## Projection of the test sample"
   ]
  },
  {
   "cell_type": "code",
   "execution_count": 36,
   "metadata": {},
   "outputs": [],
   "source": [
    "X_supp=X_test ; y_supp=y_test\n",
    "coordSupp=pca.transform(X_supp)"
   ]
  },
  {
   "cell_type": "code",
   "execution_count": 37,
   "metadata": {},
   "outputs": [
    {
     "data": {
      "text/plain": [
       "(116, 5)"
      ]
     },
     "execution_count": 37,
     "metadata": {},
     "output_type": "execute_result"
    }
   ],
   "source": [
    "coordSupp.shape"
   ]
  },
  {
   "cell_type": "code",
   "execution_count": 38,
   "metadata": {},
   "outputs": [
    {
     "data": {
      "image/png": "[encoded data removed]",
      "text/plain": [
       "<Figure size 1152x360 with 1 Axes>"
      ]
     },
     "metadata": {
      "needs_background": "light"
     },
     "output_type": "display_data"
    }
   ],
   "source": [
    "fig = plt.figure(figsize = (16,5))\n",
    "ax = fig.add_subplot(1,1,1)\n",
    "ax.set_xlabel('Principal Component 1', fontsize = 15)\n",
    "ax.set_ylabel('Principal Component 2', fontsize = 15)\n",
    "ax.set_title('Test sample on best Plan-2 (Axis 1 & 2)', fontsize = 20)\n",
    "df2=pd.DataFrame(data=coordSupp,index=X_supp.index,columns=final_factors_Df.columns[0:5])\n",
    "df0=df1.loc[X_supp.index]['chd']\n",
    "gdf=pd.concat([df2,df0],axis=1)\n",
    "targets = [0,1]\n",
    "colors = ['green','red']\n",
    "for target, color in zip(targets,colors):\n",
    "    indicesToKeep = gdf['chd'] == target\n",
    "    ax.scatter(gdf.loc[indicesToKeep, 'PC1'], gdf.loc[indicesToKeep, 'PC2'],c= color, s = 50,marker='s')\n",
    "    ax.legend(targets)\n",
    "\n",
    "ax.grid()\n",
    "plt.show()"
   ]
  },
  {
   "cell_type": "code",
   "execution_count": 39,
   "metadata": {},
   "outputs": [
    {
     "data": {
      "image/png": "[encoded data removed]",
      "text/plain": [
       "<Figure size 1152x360 with 1 Axes>"
      ]
     },
     "metadata": {
      "needs_background": "light"
     },
     "output_type": "display_data"
    }
   ],
   "source": [
    "fig = plt.figure(figsize = (16,5))\n",
    "ax = fig.add_subplot(1,1,1)\n",
    "ax.set_xlabel('Principal Component 1', fontsize = 15)\n",
    "ax.set_ylabel('Principal Component 3', fontsize = 15)\n",
    "ax.set_title('Test sample on second best Plan-2 (Axis 1 & 3)', fontsize = 20)\n",
    "df2=pd.DataFrame(data=coordSupp,index=X_supp.index,columns=final_factors_Df.columns[0:5])\n",
    "df0=df1.loc[X_supp.index]['chd']\n",
    "gdf=pd.concat([df2,df0],axis=1)\n",
    "targets = [0,1]\n",
    "colors = ['green','red']\n",
    "for target, color in zip(targets,colors):\n",
    "    indicesToKeep = gdf['chd'] == target\n",
    "    ax.scatter(gdf.loc[indicesToKeep, 'PC1'], gdf.loc[indicesToKeep, 'PC3'] , c= color, s = 50,marker='s')\n",
    "\n",
    "ax.legend(targets)\n",
    "ax.grid()\n",
    "plt.show()"
   ]
  },
  {
   "cell_type": "markdown",
   "metadata": {},
   "source": [
    "####  The binary variable ‘famhist’ is added to the training set"
   ]
  },
  {
   "cell_type": "code",
   "execution_count": 40,
   "metadata": {},
   "outputs": [
    {
     "data": {
      "text/html": [
       "<div>\n",
       "<style scoped>\n",
       "    .dataframe tbody tr th:only-of-type {\n",
       "        vertical-align: middle;\n",
       "    }\n",
       "\n",
       "    .dataframe tbody tr th {\n",
       "        vertical-align: top;\n",
       "    }\n",
       "\n",
       "    .dataframe thead th {\n",
       "        text-align: right;\n",
       "    }\n",
       "</style>\n",
       "<table border=\"1\" class=\"dataframe\">\n",
       "  <thead>\n",
       "    <tr style=\"text-align: right;\">\n",
       "      <th></th>\n",
       "      <th>famhist</th>\n",
       "      <th>PC1</th>\n",
       "      <th>PC2</th>\n",
       "      <th>PC3</th>\n",
       "      <th>PC4</th>\n",
       "      <th>PC5</th>\n",
       "    </tr>\n",
       "    <tr>\n",
       "      <th>ind</th>\n",
       "      <th></th>\n",
       "      <th></th>\n",
       "      <th></th>\n",
       "      <th></th>\n",
       "      <th></th>\n",
       "      <th></th>\n",
       "    </tr>\n",
       "  </thead>\n",
       "  <tbody>\n",
       "    <tr>\n",
       "      <th>28</th>\n",
       "      <td>Absent</td>\n",
       "      <td>-59.137200</td>\n",
       "      <td>137.746866</td>\n",
       "      <td>-165.673322</td>\n",
       "      <td>35.629031</td>\n",
       "      <td>-186.595578</td>\n",
       "    </tr>\n",
       "    <tr>\n",
       "      <th>360</th>\n",
       "      <td>Present</td>\n",
       "      <td>-76.538494</td>\n",
       "      <td>115.476013</td>\n",
       "      <td>150.617470</td>\n",
       "      <td>134.663595</td>\n",
       "      <td>33.065346</td>\n",
       "    </tr>\n",
       "    <tr>\n",
       "      <th>389</th>\n",
       "      <td>Absent</td>\n",
       "      <td>-231.398449</td>\n",
       "      <td>-57.996278</td>\n",
       "      <td>92.309157</td>\n",
       "      <td>42.187143</td>\n",
       "      <td>-147.895106</td>\n",
       "    </tr>\n",
       "    <tr>\n",
       "      <th>322</th>\n",
       "      <td>Present</td>\n",
       "      <td>-52.422975</td>\n",
       "      <td>88.987756</td>\n",
       "      <td>-52.167519</td>\n",
       "      <td>-197.749086</td>\n",
       "      <td>120.181623</td>\n",
       "    </tr>\n",
       "    <tr>\n",
       "      <th>252</th>\n",
       "      <td>Absent</td>\n",
       "      <td>227.139305</td>\n",
       "      <td>-229.256165</td>\n",
       "      <td>-6.883820</td>\n",
       "      <td>-7.120955</td>\n",
       "      <td>-98.990768</td>\n",
       "    </tr>\n",
       "  </tbody>\n",
       "</table>\n",
       "</div>"
      ],
      "text/plain": [
       "     famhist         PC1         PC2         PC3         PC4         PC5\n",
       "ind                                                                     \n",
       "28    Absent  -59.137200  137.746866 -165.673322   35.629031 -186.595578\n",
       "360  Present  -76.538494  115.476013  150.617470  134.663595   33.065346\n",
       "389   Absent -231.398449  -57.996278   92.309157   42.187143 -147.895106\n",
       "322  Present  -52.422975   88.987756  -52.167519 -197.749086  120.181623\n",
       "252   Absent  227.139305 -229.256165   -6.883820   -7.120955  -98.990768"
      ]
     },
     "execution_count": 40,
     "metadata": {},
     "output_type": "execute_result"
    }
   ],
   "source": [
    "X_train=pd.concat([data.loc[factors_Df.index]['famhist'],factors_Df],axis=1)\n",
    "X_train.head()"
   ]
  },
  {
   "cell_type": "markdown",
   "metadata": {},
   "source": [
    "#### The binary variable ‘famhist’ is added to the test set"
   ]
  },
  {
   "cell_type": "code",
   "execution_count": 41,
   "metadata": {},
   "outputs": [
    {
     "data": {
      "text/html": [
       "<div>\n",
       "<style scoped>\n",
       "    .dataframe tbody tr th:only-of-type {\n",
       "        vertical-align: middle;\n",
       "    }\n",
       "\n",
       "    .dataframe tbody tr th {\n",
       "        vertical-align: top;\n",
       "    }\n",
       "\n",
       "    .dataframe thead th {\n",
       "        text-align: right;\n",
       "    }\n",
       "</style>\n",
       "<table border=\"1\" class=\"dataframe\">\n",
       "  <thead>\n",
       "    <tr style=\"text-align: right;\">\n",
       "      <th></th>\n",
       "      <th>famhist</th>\n",
       "      <th>PC1</th>\n",
       "      <th>PC2</th>\n",
       "      <th>PC3</th>\n",
       "      <th>PC4</th>\n",
       "      <th>PC5</th>\n",
       "    </tr>\n",
       "    <tr>\n",
       "      <th>ind</th>\n",
       "      <th></th>\n",
       "      <th></th>\n",
       "      <th></th>\n",
       "      <th></th>\n",
       "      <th></th>\n",
       "      <th></th>\n",
       "    </tr>\n",
       "  </thead>\n",
       "  <tbody>\n",
       "    <tr>\n",
       "      <th>175</th>\n",
       "      <td>Present</td>\n",
       "      <td>223.026620</td>\n",
       "      <td>-71.781715</td>\n",
       "      <td>85.073318</td>\n",
       "      <td>-66.945246</td>\n",
       "      <td>74.107162</td>\n",
       "    </tr>\n",
       "    <tr>\n",
       "      <th>204</th>\n",
       "      <td>Absent</td>\n",
       "      <td>128.742813</td>\n",
       "      <td>50.558565</td>\n",
       "      <td>-46.881331</td>\n",
       "      <td>18.279283</td>\n",
       "      <td>71.373455</td>\n",
       "    </tr>\n",
       "    <tr>\n",
       "      <th>376</th>\n",
       "      <td>Present</td>\n",
       "      <td>-18.773451</td>\n",
       "      <td>47.078435</td>\n",
       "      <td>-194.539818</td>\n",
       "      <td>-263.295005</td>\n",
       "      <td>304.263157</td>\n",
       "    </tr>\n",
       "    <tr>\n",
       "      <th>227</th>\n",
       "      <td>Present</td>\n",
       "      <td>-38.400059</td>\n",
       "      <td>-304.258629</td>\n",
       "      <td>-165.578177</td>\n",
       "      <td>194.633075</td>\n",
       "      <td>-47.057714</td>\n",
       "    </tr>\n",
       "    <tr>\n",
       "      <th>159</th>\n",
       "      <td>Absent</td>\n",
       "      <td>234.922983</td>\n",
       "      <td>-130.039372</td>\n",
       "      <td>204.245202</td>\n",
       "      <td>9.148298</td>\n",
       "      <td>101.913732</td>\n",
       "    </tr>\n",
       "  </tbody>\n",
       "</table>\n",
       "</div>"
      ],
      "text/plain": [
       "     famhist         PC1         PC2         PC3         PC4         PC5\n",
       "ind                                                                     \n",
       "175  Present  223.026620  -71.781715   85.073318  -66.945246   74.107162\n",
       "204   Absent  128.742813   50.558565  -46.881331   18.279283   71.373455\n",
       "376  Present  -18.773451   47.078435 -194.539818 -263.295005  304.263157\n",
       "227  Present  -38.400059 -304.258629 -165.578177  194.633075  -47.057714\n",
       "159   Absent  234.922983 -130.039372  204.245202    9.148298  101.913732"
      ]
     },
     "execution_count": 41,
     "metadata": {},
     "output_type": "execute_result"
    }
   ],
   "source": [
    "test_DF=pd.DataFrame(coordSupp,columns=['PC1','PC2','PC3','PC4','PC5'],index=X_test.index)\n",
    "X_test=pd.concat([data.loc[X_test.index]['famhist'],test_DF],axis=1)\n",
    "\n",
    "X_test.head()"
   ]
  },
  {
   "cell_type": "markdown",
   "metadata": {},
   "source": [
    "## Predictive analysis"
   ]
  },
  {
   "cell_type": "code",
   "execution_count": 42,
   "metadata": {},
   "outputs": [],
   "source": [
    "## import Libraries\n",
    "from sklearn.model_selection import cross_val_score\n",
    "from sklearn.ensemble import RandomForestClassifier\n",
    "from sklearn.svm import SVC, LinearSVC\n",
    "from sklearn.ensemble import GradientBoostingClassifier\n",
    "from sklearn.model_selection import GridSearchCV\n",
    "from sklearn.metrics import roc_curve, auc,classification_report\n",
    "from sklearn.pipeline import Pipeline"
   ]
  },
  {
   "cell_type": "markdown",
   "metadata": {},
   "source": [
    "In this part, we'll train 2 classifiers SVM and  RF .\n",
    "First on main components, then on the initial data and we compare their performance\n",
    "to assess the contribution (if any) of the reduction in size in terms of decreasing the\n",
    "noise in the construction of predictive models."
   ]
  },
  {
   "cell_type": "markdown",
   "metadata": {},
   "source": [
    "## 1. Random Forest\n",
    "### 1.1 Principal component"
   ]
  },
  {
   "cell_type": "code",
   "execution_count": 43,
   "metadata": {},
   "outputs": [
    {
     "data": {
      "text/plain": [
       "<matplotlib.axes._subplots.AxesSubplot at 0x7f2d69a3d128>"
      ]
     },
     "execution_count": 43,
     "metadata": {},
     "output_type": "execute_result"
    },
    {
     "data": {
      "image/png": "[encoded data removed]",
      "text/plain": [
       "<Figure size 432x288 with 2 Axes>"
      ]
     },
     "metadata": {
      "needs_background": "light"
     },
     "output_type": "display_data"
    }
   ],
   "source": [
    "pred=[]\n",
    "X_train=factors_Df.iloc[:,1:4]\n",
    "param_grid={'bootstrap':[True], 'max_depth':[110,130,150,170],'min_samples_leaf':[7,9,11,13],'min_samples_split':[6,8,12],'n_estimators':[10,15,20,25]}\n",
    "gs=GridSearchCV(estimator=RandomForestClassifier(),param_grid=param_grid,cv=5)\n",
    "\n",
    "gs.fit(X_train,y_train)\n",
    "best_rf=gs.best_estimator_\n",
    "y_true,y_pred=y_supp,best_rf.predict(X_test.iloc[:,1:4])\n",
    "\n",
    "df=pd.DataFrame(classification_report(y_true,y_pred,output_dict=True))\n",
    "sea.heatmap(df.iloc[:-1, :].T, annot=True)"
   ]
  },
  {
   "cell_type": "markdown",
   "metadata": {},
   "source": [
    "## 1. Random Forest\n",
    "### 1.2 Initial Data"
   ]
  },
  {
   "cell_type": "code",
   "execution_count": 44,
   "metadata": {},
   "outputs": [
    {
     "data": {
      "text/html": [
       "<div>\n",
       "<style scoped>\n",
       "    .dataframe tbody tr th:only-of-type {\n",
       "        vertical-align: middle;\n",
       "    }\n",
       "\n",
       "    .dataframe tbody tr th {\n",
       "        vertical-align: top;\n",
       "    }\n",
       "\n",
       "    .dataframe thead th {\n",
       "        text-align: right;\n",
       "    }\n",
       "</style>\n",
       "<table border=\"1\" class=\"dataframe\">\n",
       "  <thead>\n",
       "    <tr style=\"text-align: right;\">\n",
       "      <th></th>\n",
       "      <th>ind</th>\n",
       "      <th>sbp</th>\n",
       "      <th>tobacco</th>\n",
       "      <th>ldl</th>\n",
       "      <th>adiposity</th>\n",
       "      <th>famhist</th>\n",
       "      <th>obesity</th>\n",
       "      <th>alcohol</th>\n",
       "      <th>age</th>\n",
       "      <th>chd</th>\n",
       "    </tr>\n",
       "    <tr>\n",
       "      <th>ind</th>\n",
       "      <th></th>\n",
       "      <th></th>\n",
       "      <th></th>\n",
       "      <th></th>\n",
       "      <th></th>\n",
       "      <th></th>\n",
       "      <th></th>\n",
       "      <th></th>\n",
       "      <th></th>\n",
       "      <th></th>\n",
       "    </tr>\n",
       "  </thead>\n",
       "  <tbody>\n",
       "    <tr>\n",
       "      <th>1</th>\n",
       "      <td>1</td>\n",
       "      <td>160</td>\n",
       "      <td>12.00</td>\n",
       "      <td>5.73</td>\n",
       "      <td>23.11</td>\n",
       "      <td>Present</td>\n",
       "      <td>25.30</td>\n",
       "      <td>97.20</td>\n",
       "      <td>52</td>\n",
       "      <td>1</td>\n",
       "    </tr>\n",
       "    <tr>\n",
       "      <th>2</th>\n",
       "      <td>2</td>\n",
       "      <td>144</td>\n",
       "      <td>0.01</td>\n",
       "      <td>4.41</td>\n",
       "      <td>28.61</td>\n",
       "      <td>Absent</td>\n",
       "      <td>28.87</td>\n",
       "      <td>2.06</td>\n",
       "      <td>63</td>\n",
       "      <td>1</td>\n",
       "    </tr>\n",
       "    <tr>\n",
       "      <th>3</th>\n",
       "      <td>3</td>\n",
       "      <td>118</td>\n",
       "      <td>0.08</td>\n",
       "      <td>3.48</td>\n",
       "      <td>32.28</td>\n",
       "      <td>Present</td>\n",
       "      <td>29.14</td>\n",
       "      <td>3.81</td>\n",
       "      <td>46</td>\n",
       "      <td>0</td>\n",
       "    </tr>\n",
       "    <tr>\n",
       "      <th>4</th>\n",
       "      <td>4</td>\n",
       "      <td>170</td>\n",
       "      <td>7.50</td>\n",
       "      <td>6.41</td>\n",
       "      <td>38.03</td>\n",
       "      <td>Present</td>\n",
       "      <td>31.99</td>\n",
       "      <td>24.26</td>\n",
       "      <td>58</td>\n",
       "      <td>1</td>\n",
       "    </tr>\n",
       "    <tr>\n",
       "      <th>5</th>\n",
       "      <td>5</td>\n",
       "      <td>134</td>\n",
       "      <td>13.60</td>\n",
       "      <td>3.50</td>\n",
       "      <td>27.78</td>\n",
       "      <td>Present</td>\n",
       "      <td>25.99</td>\n",
       "      <td>57.34</td>\n",
       "      <td>49</td>\n",
       "      <td>1</td>\n",
       "    </tr>\n",
       "  </tbody>\n",
       "</table>\n",
       "</div>"
      ],
      "text/plain": [
       "     ind  sbp tobacco   ldl adiposity  famhist obesity alcohol  age  chd\n",
       "ind                                                                     \n",
       "1      1  160   12.00  5.73     23.11  Present   25.30   97.20   52    1\n",
       "2      2  144    0.01  4.41     28.61   Absent   28.87    2.06   63    1\n",
       "3      3  118    0.08  3.48     32.28  Present   29.14    3.81   46    0\n",
       "4      4  170    7.50  6.41     38.03  Present   31.99   24.26   58    1\n",
       "5      5  134   13.60  3.50     27.78  Present   25.99   57.34   49    1"
      ]
     },
     "execution_count": 44,
     "metadata": {},
     "output_type": "execute_result"
    }
   ],
   "source": [
    "data=data.drop(['typea'],axis=1)\n",
    "data.head()"
   ]
  },
  {
   "cell_type": "code",
   "execution_count": 45,
   "metadata": {},
   "outputs": [],
   "source": [
    "X_train=data.loc[X_train.index]; X_test=data.loc[X_test.index]\n",
    "X_train['famhist'].replace({\"Absent\":0,\"Present\":1},inplace=True)\n",
    "X_test['famhist'].replace({\"Absent\":0,\"Present\":1},inplace=True)\n",
    "\n",
    "y=df1['chd']; y_train=y.loc[y_train.index]; y_test=y[y_test.index]\n",
    " \n",
    "\n",
    "param_grid={'bootstrap':[True], 'max_depth':[110,130,150,170],'min_samples_leaf':[7,9,11,13],'min_samples_split':[8,12,14],'n_estimators':[10,15,20,25]}\n",
    "gs=GridSearchCV(estimator=RandomForestClassifier(),param_grid=param_grid,cv=5)\n",
    "gs.fit(X_train,y_train)\n",
    "best_rf_=gs.best_estimator_\n",
    "y_true,y_pred=y_supp,best_rf_.predict(X_test)\n",
    "pred.append(y_pred)"
   ]
  },
  {
   "cell_type": "code",
   "execution_count": 46,
   "metadata": {},
   "outputs": [
    {
     "data": {
      "text/plain": [
       "<matplotlib.axes._subplots.AxesSubplot at 0x7f2d68215908>"
      ]
     },
     "execution_count": 46,
     "metadata": {},
     "output_type": "execute_result"
    },
    {
     "data": {
      "image/png": "[encoded data removed]",
      "text/plain": [
       "<Figure size 432x288 with 2 Axes>"
      ]
     },
     "metadata": {
      "needs_background": "light"
     },
     "output_type": "display_data"
    }
   ],
   "source": [
    "df=pd.DataFrame(classification_report(y_true,y_pred,output_dict=True))\n",
    "sea.heatmap(df.iloc[:-1, :].T, annot=True)"
   ]
  },
  {
   "cell_type": "markdown",
   "metadata": {},
   "source": [
    "## 2. Support Vector Machine\n",
    "### 2.1 Principal Component"
   ]
  },
  {
   "cell_type": "code",
   "execution_count": 47,
   "metadata": {},
   "outputs": [],
   "source": [
    "X_train=factors_Df.iloc[:,1:4]\n",
    "SVCpipe = Pipeline([('SVC',LinearSVC())])\n",
    "param_grid = {'SVC__C':np.arange(0.01,100,10)}\n",
    "linearSVC = GridSearchCV(SVCpipe,param_grid,cv=5,return_train_score=True)\n",
    "linearSVC.fit(X_train,y_train)\n",
    "best_svc=linearSVC.best_estimator_\n",
    "y_true,y_pred=y_supp,best_svc.predict(X_test.iloc[:,1:4])"
   ]
  },
  {
   "cell_type": "code",
   "execution_count": 48,
   "metadata": {},
   "outputs": [
    {
     "data": {
      "text/plain": [
       "<matplotlib.axes._subplots.AxesSubplot at 0x7f2d6bfdbd30>"
      ]
     },
     "execution_count": 48,
     "metadata": {},
     "output_type": "execute_result"
    },
    {
     "data": {
      "image/png": "[encoded data removed]",
      "text/plain": [
       "<Figure size 432x288 with 2 Axes>"
      ]
     },
     "metadata": {
      "needs_background": "light"
     },
     "output_type": "display_data"
    }
   ],
   "source": [
    "df=pd.DataFrame(classification_report(y_true,y_pred,output_dict=True))\n",
    "sea.heatmap(df.iloc[:-1, :].T, annot=True)"
   ]
  },
  {
   "cell_type": "markdown",
   "metadata": {},
   "source": [
    "## 2. Support Vector Machine\n",
    "### 2.2 Initial Data"
   ]
  },
  {
   "cell_type": "code",
   "execution_count": 49,
   "metadata": {},
   "outputs": [],
   "source": [
    "X_train=data.loc[X_train.index]; X_test=data.loc[X_test.index]\n",
    "y=df1['chd']; y_train=y.loc[y_train.index]; y_test=y[y_test.index]\n",
    "X_train['famhist'].replace({\"Absent\":0,\"Present\":1},inplace=True)\n",
    "X_test['famhist'].replace({\"Absent\":0,\"Present\":1},inplace=True)"
   ]
  },
  {
   "cell_type": "code",
   "execution_count": 50,
   "metadata": {},
   "outputs": [],
   "source": [
    "param_grid = {'SVC__C':np.arange(0.01,100,10)}\n",
    "linearSVC = GridSearchCV(SVCpipe,param_grid,cv=5,return_train_score=True)\n",
    "linearSVC.fit(X_train,y_train)\n",
    "best_svc=linearSVC.best_estimator_\n",
    "y_true,y_pred=y_supp,best_svc.predict(X_test)\n",
    "pred.append(y_pred)"
   ]
  },
  {
   "cell_type": "code",
   "execution_count": 51,
   "metadata": {},
   "outputs": [
    {
     "data": {
      "text/plain": [
       "<matplotlib.axes._subplots.AxesSubplot at 0x7f2d6c1bb278>"
      ]
     },
     "execution_count": 51,
     "metadata": {},
     "output_type": "execute_result"
    },
    {
     "data": {
      "image/png": "[encoded data removed]",
      "text/plain": [
       "<Figure size 432x288 with 2 Axes>"
      ]
     },
     "metadata": {
      "needs_background": "light"
     },
     "output_type": "display_data"
    }
   ],
   "source": [
    "df=pd.DataFrame(classification_report(y_true,y_pred,output_dict=True))\n",
    "sea.heatmap(df.iloc[:-1, :].T, annot=True)"
   ]
  },
  {
   "cell_type": "markdown",
   "metadata": {},
   "source": [
    "In this part, a majority vote is taken. A performance check of this\n",
    "classification system of the two best models is subsequently carried out"
   ]
  },
  {
   "cell_type": "code",
   "execution_count": 52,
   "metadata": {},
   "outputs": [],
   "source": [
    "s=pred[0]+pred[1]\n",
    "pred_finale=[]\n",
    "for i in range(len(s)):\n",
    "    if (s[i] >= 1):\n",
    "        pred_finale.append(1)\n",
    "    else:\n",
    "        pred_finale.append(0)\n",
    "pred_finale=pd.DataFrame(pred_finale)"
   ]
  },
  {
   "cell_type": "code",
   "execution_count": 53,
   "metadata": {},
   "outputs": [
    {
     "data": {
      "text/plain": [
       "<matplotlib.axes._subplots.AxesSubplot at 0x7f2d6c0105c0>"
      ]
     },
     "execution_count": 53,
     "metadata": {},
     "output_type": "execute_result"
    },
    {
     "data": {
      "image/png": "[encoded data removed]",
      "text/plain": [
       "<Figure size 432x288 with 2 Axes>"
      ]
     },
     "metadata": {
      "needs_background": "light"
     },
     "output_type": "display_data"
    }
   ],
   "source": [
    "df=pd.DataFrame(classification_report(y_true,y_pred,output_dict=True))\n",
    "sea.heatmap(df.iloc[:-1, :].T, annot=True)"
   ]
  },
  {
   "cell_type": "markdown",
   "metadata": {},
   "source": [
    "Conclusion: With dimensionality reduction, we don't necessarily get better\n",
    "results only with the dataset. It should be noted that a rotation of the factorial axis would probably\n",
    "improved results"
   ]
  },
  {
   "cell_type": "markdown",
   "metadata": {},
   "source": []
  },
  {
   "cell_type": "code",
   "execution_count": null,
   "metadata": {},
   "outputs": [],
   "source": []
  }
 ],
 "metadata": {
  "kernelspec": {
   "display_name": "Python 3",
   "language": "python",
   "name": "python3"
  },
  "language_info": {
   "codemirror_mode": {
    "name": "ipython",
    "version": 3
   },
   "file_extension": ".py",
   "mimetype": "text/x-python",
   "name": "python",
   "nbconvert_exporter": "python",
   "pygments_lexer": "ipython3",
   "version": "3.7.1"
  }
 },
 "nbformat": 4,
 "nbformat_minor": 4
}
